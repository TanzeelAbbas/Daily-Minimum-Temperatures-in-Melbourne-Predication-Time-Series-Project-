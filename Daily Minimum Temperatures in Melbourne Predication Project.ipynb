{
 "cells": [
  {
   "cell_type": "markdown",
   "id": "a5260071",
   "metadata": {},
   "source": [
    "# Time Series Project"
   ]
  },
  {
   "cell_type": "markdown",
   "id": "562e49e2",
   "metadata": {},
   "source": [
    "# Daily Minimum Temperatures in Melbourne Predication Project"
   ]
  },
  {
   "cell_type": "markdown",
   "id": "bda8db5f",
   "metadata": {},
   "source": [
    "## Imports "
   ]
  },
  {
   "cell_type": "code",
   "execution_count": 62,
   "id": "2251a672",
   "metadata": {},
   "outputs": [],
   "source": [
    "import numpy as np\n",
    "import pandas as pd\n",
    "import tensorflow as tf\n",
    "from tensorflow.keras import layers, optimizers, models\n",
    "import matplotlib.pyplot as plt"
   ]
  },
  {
   "cell_type": "markdown",
   "id": "83339e18",
   "metadata": {},
   "source": [
    "# Load Dataset"
   ]
  },
  {
   "cell_type": "code",
   "execution_count": 63,
   "id": "ca4ac511",
   "metadata": {},
   "outputs": [
    {
     "data": {
      "text/html": [
       "<div>\n",
       "<style scoped>\n",
       "    .dataframe tbody tr th:only-of-type {\n",
       "        vertical-align: middle;\n",
       "    }\n",
       "\n",
       "    .dataframe tbody tr th {\n",
       "        vertical-align: top;\n",
       "    }\n",
       "\n",
       "    .dataframe thead th {\n",
       "        text-align: right;\n",
       "    }\n",
       "</style>\n",
       "<table border=\"1\" class=\"dataframe\">\n",
       "  <thead>\n",
       "    <tr style=\"text-align: right;\">\n",
       "      <th></th>\n",
       "      <th>Date</th>\n",
       "      <th>Temp</th>\n",
       "    </tr>\n",
       "  </thead>\n",
       "  <tbody>\n",
       "    <tr>\n",
       "      <th>0</th>\n",
       "      <td>1981-01-01</td>\n",
       "      <td>20.7</td>\n",
       "    </tr>\n",
       "    <tr>\n",
       "      <th>1</th>\n",
       "      <td>1981-01-02</td>\n",
       "      <td>17.9</td>\n",
       "    </tr>\n",
       "    <tr>\n",
       "      <th>2</th>\n",
       "      <td>1981-01-03</td>\n",
       "      <td>18.8</td>\n",
       "    </tr>\n",
       "    <tr>\n",
       "      <th>3</th>\n",
       "      <td>1981-01-04</td>\n",
       "      <td>14.6</td>\n",
       "    </tr>\n",
       "    <tr>\n",
       "      <th>4</th>\n",
       "      <td>1981-01-05</td>\n",
       "      <td>15.8</td>\n",
       "    </tr>\n",
       "    <tr>\n",
       "      <th>...</th>\n",
       "      <td>...</td>\n",
       "      <td>...</td>\n",
       "    </tr>\n",
       "    <tr>\n",
       "      <th>3645</th>\n",
       "      <td>1990-12-27</td>\n",
       "      <td>14.0</td>\n",
       "    </tr>\n",
       "    <tr>\n",
       "      <th>3646</th>\n",
       "      <td>1990-12-28</td>\n",
       "      <td>13.6</td>\n",
       "    </tr>\n",
       "    <tr>\n",
       "      <th>3647</th>\n",
       "      <td>1990-12-29</td>\n",
       "      <td>13.5</td>\n",
       "    </tr>\n",
       "    <tr>\n",
       "      <th>3648</th>\n",
       "      <td>1990-12-30</td>\n",
       "      <td>15.7</td>\n",
       "    </tr>\n",
       "    <tr>\n",
       "      <th>3649</th>\n",
       "      <td>1990-12-31</td>\n",
       "      <td>13.0</td>\n",
       "    </tr>\n",
       "  </tbody>\n",
       "</table>\n",
       "<p>3650 rows × 2 columns</p>\n",
       "</div>"
      ],
      "text/plain": [
       "            Date  Temp\n",
       "0     1981-01-01  20.7\n",
       "1     1981-01-02  17.9\n",
       "2     1981-01-03  18.8\n",
       "3     1981-01-04  14.6\n",
       "4     1981-01-05  15.8\n",
       "...          ...   ...\n",
       "3645  1990-12-27  14.0\n",
       "3646  1990-12-28  13.6\n",
       "3647  1990-12-29  13.5\n",
       "3648  1990-12-30  15.7\n",
       "3649  1990-12-31  13.0\n",
       "\n",
       "[3650 rows x 2 columns]"
      ]
     },
     "execution_count": 63,
     "metadata": {},
     "output_type": "execute_result"
    }
   ],
   "source": [
    "path=\"E:/Study DATA/Deep learning Projects/Daily Minimum Temperatures in Melbourne Predication (Time Series Project)/Dataset/Daily Minimum Temperatures in Melbourne.csv\"\n",
    "data=pd.read_csv(path)\n",
    "data"
   ]
  },
  {
   "cell_type": "code",
   "execution_count": 64,
   "id": "e2c3a297",
   "metadata": {},
   "outputs": [
    {
     "data": {
      "text/plain": [
       "3649"
      ]
     },
     "execution_count": 64,
     "metadata": {},
     "output_type": "execute_result"
    }
   ],
   "source": [
    "time=np.arange(0,3650)\n",
    "time[-1]"
   ]
  },
  {
   "cell_type": "code",
   "execution_count": 65,
   "id": "ce8c628d",
   "metadata": {},
   "outputs": [],
   "source": [
    "values=data.iloc[:,-1]\n",
    "values=np.array(values)"
   ]
  },
  {
   "cell_type": "code",
   "execution_count": 66,
   "id": "f83cf5f9",
   "metadata": {},
   "outputs": [
    {
     "data": {
      "text/plain": [
       "13.0"
      ]
     },
     "execution_count": 66,
     "metadata": {},
     "output_type": "execute_result"
    }
   ],
   "source": [
    "values\n",
    "values[-1]"
   ]
  },
  {
   "cell_type": "markdown",
   "id": "65035d36",
   "metadata": {},
   "source": [
    "# Plot Dataset "
   ]
  },
  {
   "cell_type": "code",
   "execution_count": 67,
   "id": "88352063",
   "metadata": {},
   "outputs": [
    {
     "data": {
      "image/png": "[encoded data removed]",
      "text/plain": [
       "<Figure size 720x432 with 1 Axes>"
      ]
     },
     "metadata": {
      "needs_background": "light"
     },
     "output_type": "display_data"
    }
   ],
   "source": [
    "plt.figure(figsize=(10,6))\n",
    "plt.plot(time,values)\n",
    "plt.xlabel(\"Time\")\n",
    "plt.ylabel(\"Values\")\n",
    "plt.grid(True)"
   ]
  },
  {
   "cell_type": "markdown",
   "id": "af97cf4c",
   "metadata": {},
   "source": [
    "# Processing the data"
   ]
  },
  {
   "cell_type": "markdown",
   "id": "ee1c21d7",
   "metadata": {},
   "source": [
    "## Splitting Data into Training and Validation "
   ]
  },
  {
   "cell_type": "code",
   "execution_count": 68,
   "id": "63d1ac5f",
   "metadata": {},
   "outputs": [],
   "source": [
    "split_time=2500\n",
    "\n",
    "train_time=time[:split_time]\n",
    "train_series=values[:split_time]\n",
    "\n",
    "valid_time=time[split_time:]\n",
    "valid_series=values[split_time:]"
   ]
  },
  {
   "cell_type": "code",
   "execution_count": 69,
   "id": "85e06548",
   "metadata": {},
   "outputs": [
    {
     "name": "stdout",
     "output_type": "stream",
     "text": [
      "length of Train_Time:  2500\n",
      "length of Train_Series:  2500\n",
      "length of Validation_Time:  1150\n",
      "length of Validation_Series:  1150\n"
     ]
    }
   ],
   "source": [
    "print(\"length of Train_Time: \",len(train_time))\n",
    "print(\"length of Train_Series: \",len(train_series))\n",
    "print(\"length of Validation_Time: \",len(valid_time))\n",
    "print(\"length of Validation_Series: \",len(valid_series))"
   ]
  },
  {
   "cell_type": "code",
   "execution_count": 70,
   "id": "b51310d0",
   "metadata": {},
   "outputs": [
    {
     "data": {
      "text/plain": [
       "(2500,)"
      ]
     },
     "execution_count": 70,
     "metadata": {},
     "output_type": "execute_result"
    }
   ],
   "source": [
    "train_time.shape"
   ]
  },
  {
   "cell_type": "markdown",
   "id": "9bdb302e",
   "metadata": {},
   "source": [
    "### we will feed the data for training by creating a dataset with the appropiate processing steps such as \n",
    "`windowing`, `flattening`, `batching` and `shuffling`. "
   ]
  },
  {
   "cell_type": "code",
   "execution_count": 71,
   "id": "a756fbb9",
   "metadata": {},
   "outputs": [],
   "source": [
    "window_size=64\n",
    "batch_size=256\n",
    "shuffer_buffer_size = 1000"
   ]
  },
  {
   "cell_type": "code",
   "execution_count": 72,
   "id": "4ceeaa98",
   "metadata": {},
   "outputs": [],
   "source": [
    "def windowed_dataset(series, WINDOW_SIZE=window_size, BATCH_SIZE=batch_size, SHUFFER_BUFFER_SIZE=shuffer_buffer_size):\n",
    "    \n",
    "    # Create dataset from the series\n",
    "    dataset=tf.data.Dataset.from_tensor_slices(series)\n",
    "    \n",
    "    # Slice the dataset into the appropriate windows\n",
    "    dataset=dataset.window(window_size+1, shift=1, drop_remainder=True)\n",
    "    \n",
    "    # Flatten the dataset\n",
    "    dataset=dataset.flat_map(lambda w: w.batch(window_size+1))\n",
    "    \n",
    "    # Shuffle it\n",
    "    dataset=dataset.shuffle(shuffer_buffer_size)\n",
    "    \n",
    "    # Split it into the features and labels\n",
    "    dataset=dataset.map(lambda w: (w[:-1], w[-1]))\n",
    "    \n",
    "    # Batch it\n",
    "    dataset=dataset.batch(batch_size).prefetch(1)\n",
    "    \n",
    "    return dataset"
   ]
  },
  {
   "cell_type": "code",
   "execution_count": 73,
   "id": "94344a6e",
   "metadata": {},
   "outputs": [
    {
     "data": {
      "text/plain": [
       "<PrefetchDataset shapes: ((None, None), (None,)), types: (tf.float64, tf.float64)>"
      ]
     },
     "execution_count": 73,
     "metadata": {},
     "output_type": "execute_result"
    }
   ],
   "source": [
    "train_series_data=windowed_dataset(train_series)\n",
    "train_series_data"
   ]
  },
  {
   "cell_type": "markdown",
   "id": "acdf78cb",
   "metadata": {},
   "source": [
    "# Defining the Model Architecture"
   ]
  },
  {
   "cell_type": "code",
   "execution_count": 74,
   "id": "c57ae177",
   "metadata": {},
   "outputs": [],
   "source": [
    "model=models.Sequential()\n",
    "\n",
    "model.add(layers.Conv1D(filters=64, kernel_size=3, strides=1, padding='causal', activation='relu', input_shape=[None,1] ))\n",
    "model.add(layers.LSTM(64, return_sequences=True))\n",
    "model.add(layers.LSTM(64))\n",
    "model.add(layers.Dense(128, activation='relu'))\n",
    "model.add(layers.Dense(1))\n"
   ]
  },
  {
   "cell_type": "code",
   "execution_count": 75,
   "id": "4fca22e6",
   "metadata": {},
   "outputs": [
    {
     "name": "stdout",
     "output_type": "stream",
     "text": [
      "Model: \"sequential_1\"\n",
      "_________________________________________________________________\n",
      " Layer (type)                Output Shape              Param #   \n",
      "=================================================================\n",
      " conv1d_1 (Conv1D)           (None, None, 64)          256       \n",
      "                                                                 \n",
      " lstm_2 (LSTM)               (None, None, 64)          33024     \n",
      "                                                                 \n",
      " lstm_3 (LSTM)               (None, 64)                33024     \n",
      "                                                                 \n",
      " dense_2 (Dense)             (None, 128)               8320      \n",
      "                                                                 \n",
      " dense_3 (Dense)             (None, 1)                 129       \n",
      "                                                                 \n",
      "=================================================================\n",
      "Total params: 74,753\n",
      "Trainable params: 74,753\n",
      "Non-trainable params: 0\n",
      "_________________________________________________________________\n"
     ]
    }
   ],
   "source": [
    "model.summary()"
   ]
  },
  {
   "cell_type": "markdown",
   "id": "b5c435ea",
   "metadata": {},
   "source": [
    "## Adjusting the learning rate\n",
    "This is only changing the learning rate during the training process to give an idea of what a reasonable learning rate is and should not be confused with selecting the best learning rate.\n",
    "hyperparameter optimization"
   ]
  },
  {
   "cell_type": "code",
   "execution_count": 15,
   "id": "7cd9a792",
   "metadata": {},
   "outputs": [],
   "source": [
    "lr_schedule=tf.keras.callbacks.LearningRateScheduler( lambda epoch: 1e-4*10**(epoch/20))\n",
    "\n",
    "model.compile(optimizer=optimizers.SGD(momentum=0.9), loss=tf.keras.losses.Huber(), metrics=['mae'])"
   ]
  },
  {
   "cell_type": "markdown",
   "id": "33263a6c",
   "metadata": {},
   "source": [
    "# Training"
   ]
  },
  {
   "cell_type": "code",
   "execution_count": 64,
   "id": "63672f8b",
   "metadata": {
    "scrolled": false
   },
   "outputs": [
    {
     "name": "stdout",
     "output_type": "stream",
     "text": [
      "Epoch 1/100\n",
      "10/10 [==============================] - 12s 327ms/step - loss: 10.0929 - mae: 10.5917 - lr: 1.0000e-04\n",
      "Epoch 2/100\n",
      "10/10 [==============================] - 3s 291ms/step - loss: 9.9766 - mae: 10.4753 - lr: 1.1220e-04\n",
      "Epoch 3/100\n",
      "10/10 [==============================] - 3s 285ms/step - loss: 9.8386 - mae: 10.3372 - lr: 1.2589e-04\n",
      "Epoch 4/100\n",
      "10/10 [==============================] - 3s 295ms/step - loss: 9.6733 - mae: 10.1717 - lr: 1.4125e-04\n",
      "Epoch 5/100\n",
      "10/10 [==============================] - 4s 395ms/step - loss: 9.4910 - mae: 9.9894 - lr: 1.5849e-04\n",
      "Epoch 6/100\n",
      "10/10 [==============================] - 5s 417ms/step - loss: 9.2725 - mae: 9.7709 - lr: 1.7783e-04\n",
      "Epoch 7/100\n",
      "10/10 [==============================] - 4s 367ms/step - loss: 9.0110 - mae: 9.5093 - lr: 1.9953e-04\n",
      "Epoch 8/100\n",
      "10/10 [==============================] - 4s 383ms/step - loss: 8.6922 - mae: 9.1902 - lr: 2.2387e-04\n",
      "Epoch 9/100\n",
      "10/10 [==============================] - 5s 475ms/step - loss: 8.2935 - mae: 8.7917 - lr: 2.5119e-04\n",
      "Epoch 10/100\n",
      "10/10 [==============================] - 5s 417ms/step - loss: 7.7862 - mae: 8.2828 - lr: 2.8184e-04\n",
      "Epoch 11/100\n",
      "10/10 [==============================] - 5s 441ms/step - loss: 7.1165 - mae: 7.6122 - lr: 3.1623e-04\n",
      "Epoch 12/100\n",
      "10/10 [==============================] - 5s 425ms/step - loss: 6.2144 - mae: 6.7066 - lr: 3.5481e-04\n",
      "Epoch 13/100\n",
      "10/10 [==============================] - 4s 389ms/step - loss: 5.0472 - mae: 5.5321 - lr: 3.9811e-04\n",
      "Epoch 14/100\n",
      "10/10 [==============================] - 5s 442ms/step - loss: 3.7359 - mae: 4.2123 - lr: 4.4668e-04\n",
      "Epoch 15/100\n",
      "10/10 [==============================] - 5s 439ms/step - loss: 2.7727 - mae: 3.2369 - lr: 5.0119e-04\n",
      "Epoch 16/100\n",
      "10/10 [==============================] - 4s 397ms/step - loss: 2.5906 - mae: 3.0554 - lr: 5.6234e-04\n",
      "Epoch 17/100\n",
      "10/10 [==============================] - 4s 345ms/step - loss: 2.5450 - mae: 3.0106 - lr: 6.3096e-04\n",
      "Epoch 18/100\n",
      "10/10 [==============================] - 4s 363ms/step - loss: 2.4481 - mae: 2.9100 - lr: 7.0795e-04\n",
      "Epoch 19/100\n",
      "10/10 [==============================] - 4s 375ms/step - loss: 2.3427 - mae: 2.8027 - lr: 7.9433e-04\n",
      "Epoch 20/100\n",
      "10/10 [==============================] - 4s 384ms/step - loss: 2.1316 - mae: 2.5887 - lr: 8.9125e-04\n",
      "Epoch 21/100\n",
      "10/10 [==============================] - 4s 394ms/step - loss: 2.0045 - mae: 2.4579 - lr: 0.0010\n",
      "Epoch 22/100\n",
      "10/10 [==============================] - 4s 401ms/step - loss: 2.1833 - mae: 2.6402 - lr: 0.0011\n",
      "Epoch 23/100\n",
      "10/10 [==============================] - 5s 414ms/step - loss: 2.0505 - mae: 2.5054 - lr: 0.0013\n",
      "Epoch 24/100\n",
      "10/10 [==============================] - 4s 404ms/step - loss: 1.8695 - mae: 2.3219 - lr: 0.0014\n",
      "Epoch 25/100\n",
      "10/10 [==============================] - 5s 410ms/step - loss: 1.8273 - mae: 2.2783 - lr: 0.0016\n",
      "Epoch 26/100\n",
      "10/10 [==============================] - 4s 403ms/step - loss: 1.8501 - mae: 2.3024 - lr: 0.0018\n",
      "Epoch 27/100\n",
      "10/10 [==============================] - 4s 392ms/step - loss: 1.7859 - mae: 2.2370 - lr: 0.0020\n",
      "Epoch 28/100\n",
      "10/10 [==============================] - 4s 375ms/step - loss: 1.7762 - mae: 2.2283 - lr: 0.0022\n",
      "Epoch 29/100\n",
      "10/10 [==============================] - 4s 372ms/step - loss: 1.7945 - mae: 2.2482 - lr: 0.0025\n",
      "Epoch 30/100\n",
      "10/10 [==============================] - 4s 391ms/step - loss: 1.8369 - mae: 2.2912 - lr: 0.0028\n",
      "Epoch 31/100\n",
      "10/10 [==============================] - 4s 391ms/step - loss: 1.8072 - mae: 2.2579 - lr: 0.0032\n",
      "Epoch 32/100\n",
      "10/10 [==============================] - 5s 478ms/step - loss: 1.7912 - mae: 2.2447 - lr: 0.0035\n",
      "Epoch 33/100\n",
      "10/10 [==============================] - 5s 438ms/step - loss: 1.8508 - mae: 2.3040 - lr: 0.0040\n",
      "Epoch 34/100\n",
      "10/10 [==============================] - 5s 428ms/step - loss: 1.7468 - mae: 2.1984 - lr: 0.0045\n",
      "Epoch 35/100\n",
      "10/10 [==============================] - 4s 405ms/step - loss: 1.7193 - mae: 2.1713 - lr: 0.0050\n",
      "Epoch 36/100\n",
      "10/10 [==============================] - 6s 516ms/step - loss: 1.7709 - mae: 2.2213 - lr: 0.0056\n",
      "Epoch 37/100\n",
      "10/10 [==============================] - 5s 421ms/step - loss: 1.7602 - mae: 2.2119 - lr: 0.0063\n",
      "Epoch 38/100\n",
      "10/10 [==============================] - 5s 439ms/step - loss: 1.7021 - mae: 2.1502 - lr: 0.0071\n",
      "Epoch 39/100\n",
      "10/10 [==============================] - 5s 449ms/step - loss: 1.6290 - mae: 2.0737 - lr: 0.0079\n",
      "Epoch 40/100\n",
      "10/10 [==============================] - 5s 436ms/step - loss: 1.6524 - mae: 2.1005 - lr: 0.0089\n",
      "Epoch 41/100\n",
      "10/10 [==============================] - 4s 389ms/step - loss: 1.6394 - mae: 2.0855 - lr: 0.0100\n",
      "Epoch 42/100\n",
      "10/10 [==============================] - 5s 421ms/step - loss: 1.6305 - mae: 2.0783 - lr: 0.0112\n",
      "Epoch 43/100\n",
      "10/10 [==============================] - 4s 385ms/step - loss: 1.6327 - mae: 2.0802 - lr: 0.0126\n",
      "Epoch 44/100\n",
      "10/10 [==============================] - 5s 424ms/step - loss: 1.9115 - mae: 2.3672 - lr: 0.0141\n",
      "Epoch 45/100\n",
      "10/10 [==============================] - 4s 403ms/step - loss: 1.8203 - mae: 2.2732 - lr: 0.0158\n",
      "Epoch 46/100\n",
      "10/10 [==============================] - 5s 448ms/step - loss: 1.8260 - mae: 2.2745 - lr: 0.0178\n",
      "Epoch 47/100\n",
      "10/10 [==============================] - 4s 402ms/step - loss: 2.0775 - mae: 2.5334 - lr: 0.0200\n",
      "Epoch 48/100\n",
      "10/10 [==============================] - 4s 407ms/step - loss: 2.3890 - mae: 2.8516 - lr: 0.0224\n",
      "Epoch 49/100\n",
      "10/10 [==============================] - 4s 395ms/step - loss: 2.4000 - mae: 2.8605 - lr: 0.0251\n",
      "Epoch 50/100\n",
      "10/10 [==============================] - 4s 384ms/step - loss: 2.2129 - mae: 2.6694 - lr: 0.0282\n",
      "Epoch 51/100\n",
      "10/10 [==============================] - 4s 391ms/step - loss: 2.1383 - mae: 2.5970 - lr: 0.0316\n",
      "Epoch 52/100\n",
      "10/10 [==============================] - 4s 389ms/step - loss: 2.1707 - mae: 2.6293 - lr: 0.0355\n",
      "Epoch 53/100\n",
      "10/10 [==============================] - 5s 414ms/step - loss: 1.8100 - mae: 2.2628 - lr: 0.0398\n",
      "Epoch 54/100\n",
      "10/10 [==============================] - 4s 386ms/step - loss: 1.6322 - mae: 2.0750 - lr: 0.0447\n",
      "Epoch 55/100\n",
      "10/10 [==============================] - 4s 370ms/step - loss: 1.9510 - mae: 2.4050 - lr: 0.0501\n",
      "Epoch 56/100\n",
      "10/10 [==============================] - 5s 415ms/step - loss: 1.8116 - mae: 2.2652 - lr: 0.0562\n",
      "Epoch 57/100\n",
      "10/10 [==============================] - 4s 386ms/step - loss: 1.8021 - mae: 2.2516 - lr: 0.0631\n",
      "Epoch 58/100\n",
      "10/10 [==============================] - 4s 400ms/step - loss: 2.0653 - mae: 2.5221 - lr: 0.0708\n",
      "Epoch 59/100\n",
      "10/10 [==============================] - 4s 402ms/step - loss: 1.8831 - mae: 2.3365 - lr: 0.0794\n",
      "Epoch 60/100\n",
      "10/10 [==============================] - 4s 415ms/step - loss: 1.8457 - mae: 2.2973 - lr: 0.0891\n",
      "Epoch 61/100\n",
      "10/10 [==============================] - 4s 393ms/step - loss: 1.8732 - mae: 2.3229 - lr: 0.1000\n",
      "Epoch 62/100\n",
      "10/10 [==============================] - 4s 378ms/step - loss: 2.4576 - mae: 2.9190 - lr: 0.1122\n",
      "Epoch 63/100\n",
      "10/10 [==============================] - 5s 423ms/step - loss: 2.3864 - mae: 2.8485 - lr: 0.1259\n",
      "Epoch 64/100\n",
      "10/10 [==============================] - 5s 443ms/step - loss: 2.2494 - mae: 2.7067 - lr: 0.1413\n",
      "Epoch 65/100\n",
      "10/10 [==============================] - 5s 450ms/step - loss: 2.0392 - mae: 2.4956 - lr: 0.1585\n",
      "Epoch 66/100\n",
      "10/10 [==============================] - 4s 402ms/step - loss: 2.6146 - mae: 3.0825 - lr: 0.1778\n",
      "Epoch 67/100\n",
      "10/10 [==============================] - 4s 407ms/step - loss: 2.1850 - mae: 2.6453 - lr: 0.1995\n",
      "Epoch 68/100\n",
      "10/10 [==============================] - 5s 426ms/step - loss: 3.1316 - mae: 3.6028 - lr: 0.2239\n",
      "Epoch 69/100\n",
      "10/10 [==============================] - 4s 383ms/step - loss: 2.9953 - mae: 3.4635 - lr: 0.2512\n",
      "Epoch 70/100\n",
      "10/10 [==============================] - 4s 407ms/step - loss: 2.9003 - mae: 3.3661 - lr: 0.2818\n",
      "Epoch 71/100\n",
      "10/10 [==============================] - 5s 434ms/step - loss: 2.7747 - mae: 3.2405 - lr: 0.3162\n",
      "Epoch 72/100\n",
      "10/10 [==============================] - 4s 400ms/step - loss: 2.7757 - mae: 3.2436 - lr: 0.3548\n",
      "Epoch 73/100\n",
      "10/10 [==============================] - 5s 499ms/step - loss: 2.8355 - mae: 3.3059 - lr: 0.3981\n",
      "Epoch 74/100\n",
      "10/10 [==============================] - 6s 508ms/step - loss: 2.7226 - mae: 3.1901 - lr: 0.4467\n",
      "Epoch 75/100\n",
      "10/10 [==============================] - 3s 278ms/step - loss: 2.7246 - mae: 3.1908 - lr: 0.5012\n",
      "Epoch 76/100\n",
      "10/10 [==============================] - 5s 472ms/step - loss: 2.7651 - mae: 3.2317 - lr: 0.5623\n",
      "Epoch 77/100\n",
      "10/10 [==============================] - 5s 501ms/step - loss: 2.7637 - mae: 3.2311 - lr: 0.6310\n",
      "Epoch 78/100\n",
      "10/10 [==============================] - 3s 281ms/step - loss: 2.7196 - mae: 3.1853 - lr: 0.7079\n",
      "Epoch 79/100\n",
      "10/10 [==============================] - 4s 381ms/step - loss: 2.7276 - mae: 3.1955 - lr: 0.7943\n",
      "Epoch 80/100\n",
      "10/10 [==============================] - 5s 419ms/step - loss: 2.7412 - mae: 3.2091 - lr: 0.8913\n",
      "Epoch 81/100\n",
      "10/10 [==============================] - 5s 430ms/step - loss: 2.7241 - mae: 3.1909 - lr: 1.0000\n",
      "Epoch 82/100\n",
      "10/10 [==============================] - 4s 376ms/step - loss: 2.7213 - mae: 3.1885 - lr: 1.1220\n",
      "Epoch 83/100\n",
      "10/10 [==============================] - 4s 397ms/step - loss: 2.7251 - mae: 3.1911 - lr: 1.2589\n",
      "Epoch 84/100\n",
      "10/10 [==============================] - 4s 399ms/step - loss: 2.7705 - mae: 3.2375 - lr: 1.4125\n",
      "Epoch 85/100\n",
      "10/10 [==============================] - 5s 463ms/step - loss: 2.8055 - mae: 3.2729 - lr: 1.5849\n",
      "Epoch 86/100\n",
      "10/10 [==============================] - 6s 536ms/step - loss: 2.7381 - mae: 3.2053 - lr: 1.7783\n",
      "Epoch 87/100\n",
      "10/10 [==============================] - 6s 511ms/step - loss: 2.7537 - mae: 3.2202 - lr: 1.9953\n",
      "Epoch 88/100\n",
      "10/10 [==============================] - 4s 376ms/step - loss: 2.7370 - mae: 3.2049 - lr: 2.2387\n",
      "Epoch 89/100\n",
      "10/10 [==============================] - 4s 377ms/step - loss: 2.7520 - mae: 3.2176 - lr: 2.5119\n",
      "Epoch 90/100\n",
      "10/10 [==============================] - 5s 441ms/step - loss: 2.7339 - mae: 3.2005 - lr: 2.8184\n",
      "Epoch 91/100\n",
      "10/10 [==============================] - 5s 421ms/step - loss: 2.7434 - mae: 3.2103 - lr: 3.1623\n",
      "Epoch 92/100\n",
      "10/10 [==============================] - 4s 402ms/step - loss: 2.7235 - mae: 3.1900 - lr: 3.5481\n",
      "Epoch 93/100\n",
      "10/10 [==============================] - 4s 385ms/step - loss: 2.7499 - mae: 3.2173 - lr: 3.9811\n",
      "Epoch 94/100\n",
      "10/10 [==============================] - 4s 394ms/step - loss: 2.7964 - mae: 3.2636 - lr: 4.4668\n",
      "Epoch 95/100\n",
      "10/10 [==============================] - 4s 405ms/step - loss: 2.9226 - mae: 3.3917 - lr: 5.0119\n",
      "Epoch 96/100\n",
      "10/10 [==============================] - 4s 408ms/step - loss: 2.8515 - mae: 3.3198 - lr: 5.6234\n",
      "Epoch 97/100\n",
      "10/10 [==============================] - 4s 376ms/step - loss: 2.7245 - mae: 3.1911 - lr: 6.3096\n",
      "Epoch 98/100\n",
      "10/10 [==============================] - 4s 378ms/step - loss: 2.8419 - mae: 3.3118 - lr: 7.0795\n",
      "Epoch 99/100\n",
      "10/10 [==============================] - 4s 372ms/step - loss: 2.7458 - mae: 3.2116 - lr: 7.9433\n",
      "Epoch 100/100\n",
      "10/10 [==============================] - 4s 392ms/step - loss: 2.7363 - mae: 3.2021 - lr: 8.9125\n"
     ]
    }
   ],
   "source": [
    "history=model.fit(train_series_data, epochs=100, callbacks=[lr_schedule])"
   ]
  },
  {
   "cell_type": "code",
   "execution_count": 67,
   "id": "18c6882c",
   "metadata": {},
   "outputs": [
    {
     "data": {
      "text/plain": [
       "(0.0001, 10.0, 0.0, 10.0)"
      ]
     },
     "execution_count": 67,
     "metadata": {},
     "output_type": "execute_result"
    },
    {
     "data": {
      "image/png": "[encoded data removed]",
      "text/plain": [
       "<Figure size 432x288 with 1 Axes>"
      ]
     },
     "metadata": {
      "needs_background": "light"
     },
     "output_type": "display_data"
    }
   ],
   "source": [
    "plt.semilogx(history.history[\"lr\"], history.history[\"loss\"])\n",
    "plt.axis([1e-4, 10, 0, 10])"
   ]
  },
  {
   "cell_type": "markdown",
   "id": "c951d5a1",
   "metadata": {},
   "source": [
    "# Training with fixed Learning Rate"
   ]
  },
  {
   "cell_type": "markdown",
   "id": "cbd77e33",
   "metadata": {},
   "source": [
    "### Now that we have trained the model while varying the learning rate, it is time to do the actual training that will be used to forecast the time series "
   ]
  },
  {
   "cell_type": "code",
   "execution_count": 76,
   "id": "e4752b07",
   "metadata": {},
   "outputs": [],
   "source": [
    "model.compile(optimizer=optimizers.SGD(learning_rate=0.0079,momentum=0.9), loss=tf.keras.losses.Huber(), metrics=['mae'])"
   ]
  },
  {
   "cell_type": "code",
   "execution_count": 77,
   "id": "3b3406af",
   "metadata": {},
   "outputs": [
    {
     "name": "stdout",
     "output_type": "stream",
     "text": [
      "Epoch 1/50\n",
      "10/10 [==============================] - 9s 272ms/step - loss: 8.9637 - mae: 9.4614\n",
      "Epoch 2/50\n",
      "10/10 [==============================] - 3s 284ms/step - loss: 3.8446 - mae: 4.3212\n",
      "Epoch 3/50\n",
      "10/10 [==============================] - 3s 309ms/step - loss: 2.9338 - mae: 3.4014\n",
      "Epoch 4/50\n",
      "10/10 [==============================] - 4s 349ms/step - loss: 2.6990 - mae: 3.1665\n",
      "Epoch 5/50\n",
      "10/10 [==============================] - 4s 399ms/step - loss: 2.5984 - mae: 3.0639\n",
      "Epoch 6/50\n",
      "10/10 [==============================] - 4s 407ms/step - loss: 2.2998 - mae: 2.7598\n",
      "Epoch 7/50\n",
      "10/10 [==============================] - 5s 453ms/step - loss: 2.1041 - mae: 2.5628\n",
      "Epoch 8/50\n",
      "10/10 [==============================] - 5s 411ms/step - loss: 2.0576 - mae: 2.5134\n",
      "Epoch 9/50\n",
      "10/10 [==============================] - 5s 420ms/step - loss: 1.9675 - mae: 2.4228\n",
      "Epoch 10/50\n",
      "10/10 [==============================] - 4s 404ms/step - loss: 1.9783 - mae: 2.4368\n",
      "Epoch 11/50\n",
      "10/10 [==============================] - 4s 397ms/step - loss: 1.7890 - mae: 2.2391\n",
      "Epoch 12/50\n",
      "10/10 [==============================] - 5s 446ms/step - loss: 1.6225 - mae: 2.0701\n",
      "Epoch 13/50\n",
      "10/10 [==============================] - 5s 420ms/step - loss: 1.5832 - mae: 2.0297\n",
      "Epoch 14/50\n",
      "10/10 [==============================] - 5s 486ms/step - loss: 1.6135 - mae: 2.0577\n",
      "Epoch 15/50\n",
      "10/10 [==============================] - 4s 395ms/step - loss: 1.5752 - mae: 2.0177\n",
      "Epoch 16/50\n",
      "10/10 [==============================] - 4s 409ms/step - loss: 1.5509 - mae: 1.9947\n",
      "Epoch 17/50\n",
      "10/10 [==============================] - 4s 402ms/step - loss: 1.5179 - mae: 1.9602\n",
      "Epoch 18/50\n",
      "10/10 [==============================] - 4s 397ms/step - loss: 1.5709 - mae: 2.0150\n",
      "Epoch 19/50\n",
      "10/10 [==============================] - 4s 382ms/step - loss: 1.5028 - mae: 1.9452\n",
      "Epoch 20/50\n",
      "10/10 [==============================] - 5s 437ms/step - loss: 1.5511 - mae: 1.9962\n",
      "Epoch 21/50\n",
      "10/10 [==============================] - 5s 423ms/step - loss: 1.5102 - mae: 1.9521\n",
      "Epoch 22/50\n",
      "10/10 [==============================] - 5s 451ms/step - loss: 1.6118 - mae: 2.0565\n",
      "Epoch 23/50\n",
      "10/10 [==============================] - 4s 390ms/step - loss: 1.5773 - mae: 2.0215\n",
      "Epoch 24/50\n",
      "10/10 [==============================] - 4s 388ms/step - loss: 1.5009 - mae: 1.9413\n",
      "Epoch 25/50\n",
      "10/10 [==============================] - 4s 392ms/step - loss: 1.5537 - mae: 1.9956\n",
      "Epoch 26/50\n",
      "10/10 [==============================] - 4s 392ms/step - loss: 1.5155 - mae: 1.9589\n",
      "Epoch 27/50\n",
      "10/10 [==============================] - 4s 407ms/step - loss: 1.4998 - mae: 1.9435\n",
      "Epoch 28/50\n",
      "10/10 [==============================] - 5s 420ms/step - loss: 1.4950 - mae: 1.9353\n",
      "Epoch 29/50\n",
      "10/10 [==============================] - 5s 437ms/step - loss: 1.4832 - mae: 1.9233\n",
      "Epoch 30/50\n",
      "10/10 [==============================] - 4s 388ms/step - loss: 1.5242 - mae: 1.9692\n",
      "Epoch 31/50\n",
      "10/10 [==============================] - 4s 373ms/step - loss: 1.5527 - mae: 1.9933\n",
      "Epoch 32/50\n",
      "10/10 [==============================] - 4s 370ms/step - loss: 1.5904 - mae: 2.0342\n",
      "Epoch 33/50\n",
      "10/10 [==============================] - 4s 402ms/step - loss: 1.6224 - mae: 2.0688\n",
      "Epoch 34/50\n",
      "10/10 [==============================] - 5s 428ms/step - loss: 1.6644 - mae: 2.1112\n",
      "Epoch 35/50\n",
      "10/10 [==============================] - 5s 410ms/step - loss: 1.5149 - mae: 1.9571\n",
      "Epoch 36/50\n",
      "10/10 [==============================] - 5s 412ms/step - loss: 1.4825 - mae: 1.9220\n",
      "Epoch 37/50\n",
      "10/10 [==============================] - 4s 397ms/step - loss: 1.4789 - mae: 1.9199\n",
      "Epoch 38/50\n",
      "10/10 [==============================] - 4s 355ms/step - loss: 1.4748 - mae: 1.9146\n",
      "Epoch 39/50\n",
      "10/10 [==============================] - 4s 386ms/step - loss: 1.4705 - mae: 1.9100\n",
      "Epoch 40/50\n",
      "10/10 [==============================] - 4s 384ms/step - loss: 1.4834 - mae: 1.9226\n",
      "Epoch 41/50\n",
      "10/10 [==============================] - 4s 378ms/step - loss: 1.4703 - mae: 1.9103\n",
      "Epoch 42/50\n",
      "10/10 [==============================] - 4s 376ms/step - loss: 1.4716 - mae: 1.9122\n",
      "Epoch 43/50\n",
      "10/10 [==============================] - 4s 350ms/step - loss: 1.4785 - mae: 1.9197\n",
      "Epoch 44/50\n",
      "10/10 [==============================] - 4s 392ms/step - loss: 1.4652 - mae: 1.9039\n",
      "Epoch 45/50\n",
      "10/10 [==============================] - 4s 375ms/step - loss: 1.4939 - mae: 1.9338\n",
      "Epoch 46/50\n",
      "10/10 [==============================] - 4s 378ms/step - loss: 1.5222 - mae: 1.9647\n",
      "Epoch 47/50\n",
      "10/10 [==============================] - 4s 374ms/step - loss: 1.5638 - mae: 2.0067\n",
      "Epoch 48/50\n",
      "10/10 [==============================] - 4s 374ms/step - loss: 1.4914 - mae: 1.9314\n",
      "Epoch 49/50\n",
      "10/10 [==============================] - 4s 371ms/step - loss: 1.5358 - mae: 1.9808\n",
      "Epoch 50/50\n",
      "10/10 [==============================] - 4s 380ms/step - loss: 1.5554 - mae: 1.9989\n"
     ]
    }
   ],
   "source": [
    "history=model.fit(train_series_data, epochs=50)"
   ]
  },
  {
   "cell_type": "markdown",
   "id": "ec85347a",
   "metadata": {},
   "source": [
    "## Evaluating the forecast"
   ]
  },
  {
   "cell_type": "code",
   "execution_count": 78,
   "id": "39e684b9",
   "metadata": {},
   "outputs": [],
   "source": [
    "def compute_metrics(true_series, forecast):\n",
    "    mse=tf.keras.metrics.mean_squared_error(true_series, forecast).numpy()\n",
    "    mae=tf.keras.metrics.mean_absolute_error(true_series, forecast).numpy()\n",
    "    \n",
    "    return mse, mae"
   ]
  },
  {
   "cell_type": "code",
   "execution_count": 79,
   "id": "b749a3f6",
   "metadata": {},
   "outputs": [],
   "source": [
    "def model_forecast(model, series, window_size):\n",
    "    dataset=tf.data.Dataset.from_tensor_slices(series)\n",
    "    dataset=dataset.window(window_size, shift=1, drop_remainder=True)\n",
    "    dataset=dataset.flat_map(lambda w: w.batch(window_size))\n",
    "    dataset=dataset.batch(32).prefetch(1)\n",
    "    forecast=model.predict(dataset)\n",
    "    \n",
    "    return forecast"
   ]
  },
  {
   "cell_type": "code",
   "execution_count": 80,
   "id": "b8501267",
   "metadata": {},
   "outputs": [],
   "source": [
    "forecast=model_forecast(model, values, window_size).squeeze()\n",
    "forecast= forecast[split_time-window_size:-1]"
   ]
  },
  {
   "cell_type": "code",
   "execution_count": 81,
   "id": "254b3e39",
   "metadata": {},
   "outputs": [
    {
     "data": {
      "image/png": "[encoded data removed]",
      "text/plain": [
       "<Figure size 720x432 with 1 Axes>"
      ]
     },
     "metadata": {
      "needs_background": "light"
     },
     "output_type": "display_data"
    }
   ],
   "source": [
    "plt.figure(figsize=(10,6))\n",
    "plt.plot(valid_time,valid_series)\n",
    "plt.plot(valid_time,forecast)\n",
    "plt.xlabel(\"Time\")\n",
    "plt.ylabel(\"Values\")\n",
    "plt.grid(True)"
   ]
  },
  {
   "cell_type": "code",
   "execution_count": 83,
   "id": "ae67c174",
   "metadata": {},
   "outputs": [
    {
     "name": "stdout",
     "output_type": "stream",
     "text": [
      "Mean Squared Error: 5.76\n",
      "Mean Aboslute Error: 1.88\n"
     ]
    }
   ],
   "source": [
    "mse,mae= compute_metrics(valid_series, forecast)\n",
    "\n",
    "print(f\"Mean Squared Error: {mse:.2f}\")\n",
    "print(f\"Mean Aboslute Error: {mae:.2f}\")"
   ]
  },
  {
   "cell_type": "code",
   "execution_count": 84,
   "id": "a9c4c4a3",
   "metadata": {},
   "outputs": [],
   "source": [
    "model.save(\"E:/Study DATA/Deep learning Projects/Daily Minimum Temperatures in Melbourne Predication (Time Series Project)/Daily Minimum Temperatures in Melbourne Predication Model.h5\")"
   ]
  },
  {
   "cell_type": "code",
   "execution_count": null,
   "id": "7d7b8c03",
   "metadata": {},
   "outputs": [],
   "source": []
  }
 ],
 "metadata": {
  "kernelspec": {
   "display_name": "Python 3 (ipykernel)",
   "language": "python",
   "name": "python3"
  },
  "language_info": {
   "codemirror_mode": {
    "name": "ipython",
    "version": 3
   },
   "file_extension": ".py",
   "mimetype": "text/x-python",
   "name": "python",
   "nbconvert_exporter": "python",
   "pygments_lexer": "ipython3",
   "version": "3.7.11"
  }
 },
 "nbformat": 4,
 "nbformat_minor": 5
}
